{
 "cells": [
  {
   "cell_type": "markdown",
   "id": "da580fcc-3016-4ea2-8c9c-a045c8bdfb6d",
   "metadata": {
    "editable": true,
    "slideshow": {
     "slide_type": ""
    },
    "tags": []
   },
   "source": [
    "# Leader board\n",
    "\n",
    "Check out the latest challenge results here!\n",
    "\n",
    ":::{tip}\n",
    "\n",
    "Be sure to refresh the page to get the latest results.\n",
    ":::\n",
    "\n",
    "## Top 10 teams\n",
    "\n",
    "Check out the evolution of the leading teams's progress!"
   ]
  },
  {
   "cell_type": "code",
   "execution_count": 1,
   "id": "24302f7b-d490-408d-addf-dad83ca81f7c",
   "metadata": {
    "editable": true,
    "execution": {
     "iopub.execute_input": "2024-06-21T09:25:47.414113Z",
     "iopub.status.busy": "2024-06-21T09:25:47.413943Z",
     "iopub.status.idle": "2024-06-21T09:25:47.419974Z",
     "shell.execute_reply": "2024-06-21T09:25:47.419433Z"
    },
    "slideshow": {
     "slide_type": ""
    },
    "tags": [
     "remove-input"
    ]
   },
   "outputs": [],
   "source": [
    "# Rules of the game\n",
    "MAX_GATES = 150\n",
    "MAX_PARAMS = 60\n",
    "\n",
    "# Leaderboard config\n",
    "NUM_LEADERS = 10\n",
    "\n",
    "# Helper function to compute total submission score\n",
    "def compute_score(entry):\n",
    "    # Accuracy \n",
    "    score = entry.Accuracy\n",
    "\n",
    "    # Gate penalty\n",
    "    score += (MAX_GATES - entry.Gates) / MAX_GATES\n",
    "\n",
    "    # Params penalty\n",
    "    score += (MAX_PARAMS - entry.Parameters) / MAX_PARAMS\n",
    "    return score"
   ]
  },
  {
   "cell_type": "code",
   "execution_count": 2,
   "id": "9961324a-c975-4a23-bb88-57ee9457a2b9",
   "metadata": {
    "editable": true,
    "execution": {
     "iopub.execute_input": "2024-06-21T09:25:47.422106Z",
     "iopub.status.busy": "2024-06-21T09:25:47.421701Z",
     "iopub.status.idle": "2024-06-21T09:25:48.118631Z",
     "shell.execute_reply": "2024-06-21T09:25:48.118047Z"
    },
    "slideshow": {
     "slide_type": ""
    },
    "tags": [
     "remove-input"
    ]
   },
   "outputs": [
    {
     "data": {
      "image/png": "[encoded data removed]",
      "text/plain": [
       "<Figure size 640x480 with 1 Axes>"
      ]
     },
     "metadata": {},
     "output_type": "display_data"
    }
   ],
   "source": [
    "import matplotlib.pyplot as plt\n",
    "import pandas as pd\n",
    "\n",
    "# Retrieve submissions and compute total score\n",
    "results = pd.read_csv(\"results.csv\", index_col=False)\n",
    "results[\"Timestamp\"] = pd.to_datetime(results.Timestamp, unit=\"s\")\n",
    "results.insert(1, \"Score\", results.apply(compute_score, axis=1))\n",
    "\n",
    "# Get top teams, sorted by their highest scoring submission\n",
    "gpby = results.groupby(\"Team\")\n",
    "top_teams = results.iloc[gpby.idxmax().Score].sort_values(\"Score\", ascending=False)\n",
    "leaders = top_teams[:NUM_LEADERS].reset_index(drop=True)\n",
    "\n",
    "# Extract leading teams' data\n",
    "agg = gpby.agg(list)\n",
    "plt.xticks(rotation=70)\n",
    "[plt.plot(agg.loc[team].Timestamp, agg.loc[team].Score) for team in leaders.Team]\n",
    "\n",
    "# Make the plot pretty\n",
    "plt.xlabel(\"Submission time\")\n",
    "plt.ylabel(\"Total score\")\n",
    "plt.legend(leaders.Team, bbox_to_anchor=(1.04, 1), loc=\"upper left\");"
   ]
  },
  {
   "cell_type": "code",
   "execution_count": 3,
   "id": "7cdbee26-8fb7-4a95-81f9-67694880395d",
   "metadata": {
    "editable": true,
    "execution": {
     "iopub.execute_input": "2024-06-21T09:25:48.121084Z",
     "iopub.status.busy": "2024-06-21T09:25:48.120636Z",
     "iopub.status.idle": "2024-06-21T09:25:48.129217Z",
     "shell.execute_reply": "2024-06-21T09:25:48.128694Z"
    },
    "slideshow": {
     "slide_type": ""
    },
    "tags": [
     "remove-input"
    ]
   },
   "outputs": [
    {
     "data": {
      "text/html": [
       "<div>\n",
       "<style scoped>\n",
       "    .dataframe tbody tr th:only-of-type {\n",
       "        vertical-align: middle;\n",
       "    }\n",
       "\n",
       "    .dataframe tbody tr th {\n",
       "        vertical-align: top;\n",
       "    }\n",
       "\n",
       "    .dataframe thead th {\n",
       "        text-align: right;\n",
       "    }\n",
       "</style>\n",
       "<table border=\"1\" class=\"dataframe\">\n",
       "  <thead>\n",
       "    <tr style=\"text-align: right;\">\n",
       "      <th></th>\n",
       "      <th>Team</th>\n",
       "      <th>Top Score</th>\n",
       "      <th>Commit</th>\n",
       "      <th>Timestamp</th>\n",
       "      <th>Accuracy</th>\n",
       "      <th>Gates</th>\n",
       "      <th>Parameters</th>\n",
       "    </tr>\n",
       "  </thead>\n",
       "  <tbody>\n",
       "    <tr>\n",
       "      <th>0</th>\n",
       "      <td>Quantum Visionaries</td>\n",
       "      <td>55.616667</td>\n",
       "      <td>00ce1d</td>\n",
       "      <td>2024-06-21 03:45:55</td>\n",
       "      <td>54.0</td>\n",
       "      <td>10</td>\n",
       "      <td>19</td>\n",
       "    </tr>\n",
       "    <tr>\n",
       "      <th>1</th>\n",
       "      <td>Expert Classifiers</td>\n",
       "      <td>54.616667</td>\n",
       "      <td>276298</td>\n",
       "      <td>2024-06-21 04:21:24</td>\n",
       "      <td>53.0</td>\n",
       "      <td>10</td>\n",
       "      <td>19</td>\n",
       "    </tr>\n",
       "    <tr>\n",
       "      <th>2</th>\n",
       "      <td>Highfive</td>\n",
       "      <td>54.616667</td>\n",
       "      <td>4d4004</td>\n",
       "      <td>2024-06-21 08:25:16</td>\n",
       "      <td>53.0</td>\n",
       "      <td>10</td>\n",
       "      <td>19</td>\n",
       "    </tr>\n",
       "  </tbody>\n",
       "</table>\n",
       "</div>"
      ],
      "text/plain": [
       "                  Team  Top Score  Commit           Timestamp  Accuracy  \\\n",
       "0  Quantum Visionaries  55.616667  00ce1d 2024-06-21 03:45:55      54.0   \n",
       "1   Expert Classifiers  54.616667  276298 2024-06-21 04:21:24      53.0   \n",
       "2             Highfive  54.616667  4d4004 2024-06-21 08:25:16      53.0   \n",
       "\n",
       "   Gates  Parameters  \n",
       "0     10          19  \n",
       "1     10          19  \n",
       "2     10          19  "
      ]
     },
     "execution_count": 3,
     "metadata": {},
     "output_type": "execute_result"
    }
   ],
   "source": [
    "leaders.rename(columns={\"Score\": \"Top Score\"})"
   ]
  },
  {
   "cell_type": "markdown",
   "id": "29186506-3bce-4896-a321-75f050a074d2",
   "metadata": {
    "editable": true,
    "slideshow": {
     "slide_type": ""
    },
    "tags": []
   },
   "source": [
    "## Submission history\n",
    "\n",
    "Please find all the challenge submissions below. Most recent submissions are at the top!"
   ]
  },
  {
   "cell_type": "code",
   "execution_count": 4,
   "id": "5e591e8b-9a0c-4e3c-bedb-3b51a1dc01f6",
   "metadata": {
    "editable": true,
    "execution": {
     "iopub.execute_input": "2024-06-21T09:25:48.131366Z",
     "iopub.status.busy": "2024-06-21T09:25:48.131087Z",
     "iopub.status.idle": "2024-06-21T09:25:48.139106Z",
     "shell.execute_reply": "2024-06-21T09:25:48.138628Z"
    },
    "scrolled": true,
    "slideshow": {
     "slide_type": ""
    },
    "tags": [
     "remove-input"
    ]
   },
   "outputs": [
    {
     "data": {
      "text/html": [
       "<div>\n",
       "<style scoped>\n",
       "    .dataframe tbody tr th:only-of-type {\n",
       "        vertical-align: middle;\n",
       "    }\n",
       "\n",
       "    .dataframe tbody tr th {\n",
       "        vertical-align: top;\n",
       "    }\n",
       "\n",
       "    .dataframe thead th {\n",
       "        text-align: right;\n",
       "    }\n",
       "</style>\n",
       "<table border=\"1\" class=\"dataframe\">\n",
       "  <thead>\n",
       "    <tr style=\"text-align: right;\">\n",
       "      <th></th>\n",
       "      <th>Team</th>\n",
       "      <th>Score</th>\n",
       "      <th>Commit</th>\n",
       "      <th>Timestamp</th>\n",
       "      <th>Accuracy</th>\n",
       "      <th>Gates</th>\n",
       "      <th>Parameters</th>\n",
       "    </tr>\n",
       "  </thead>\n",
       "  <tbody>\n",
       "    <tr>\n",
       "      <th>0</th>\n",
       "      <td>Highfive</td>\n",
       "      <td>54.616667</td>\n",
       "      <td>4d4004</td>\n",
       "      <td>2024-06-21 08:25:16</td>\n",
       "      <td>53.0</td>\n",
       "      <td>10</td>\n",
       "      <td>19</td>\n",
       "    </tr>\n",
       "    <tr>\n",
       "      <th>1</th>\n",
       "      <td>Highfive</td>\n",
       "      <td>48.773333</td>\n",
       "      <td>d7d214</td>\n",
       "      <td>2024-06-21 08:24:01</td>\n",
       "      <td>47.0</td>\n",
       "      <td>9</td>\n",
       "      <td>10</td>\n",
       "    </tr>\n",
       "    <tr>\n",
       "      <th>2</th>\n",
       "      <td>Expert Classifiers</td>\n",
       "      <td>54.616667</td>\n",
       "      <td>17ad4a</td>\n",
       "      <td>2024-06-21 05:30:33</td>\n",
       "      <td>53.0</td>\n",
       "      <td>10</td>\n",
       "      <td>19</td>\n",
       "    </tr>\n",
       "    <tr>\n",
       "      <th>3</th>\n",
       "      <td>Expert Classifiers</td>\n",
       "      <td>54.616667</td>\n",
       "      <td>276298</td>\n",
       "      <td>2024-06-21 04:21:24</td>\n",
       "      <td>53.0</td>\n",
       "      <td>10</td>\n",
       "      <td>19</td>\n",
       "    </tr>\n",
       "    <tr>\n",
       "      <th>4</th>\n",
       "      <td>Quantum Visionaries</td>\n",
       "      <td>55.616667</td>\n",
       "      <td>00ce1d</td>\n",
       "      <td>2024-06-21 03:45:55</td>\n",
       "      <td>54.0</td>\n",
       "      <td>10</td>\n",
       "      <td>19</td>\n",
       "    </tr>\n",
       "  </tbody>\n",
       "</table>\n",
       "</div>"
      ],
      "text/plain": [
       "                  Team      Score  Commit           Timestamp  Accuracy  \\\n",
       "0             Highfive  54.616667  4d4004 2024-06-21 08:25:16      53.0   \n",
       "1             Highfive  48.773333  d7d214 2024-06-21 08:24:01      47.0   \n",
       "2   Expert Classifiers  54.616667  17ad4a 2024-06-21 05:30:33      53.0   \n",
       "3   Expert Classifiers  54.616667  276298 2024-06-21 04:21:24      53.0   \n",
       "4  Quantum Visionaries  55.616667  00ce1d 2024-06-21 03:45:55      54.0   \n",
       "\n",
       "   Gates  Parameters  \n",
       "0     10          19  \n",
       "1      9          10  \n",
       "2     10          19  \n",
       "3     10          19  \n",
       "4     10          19  "
      ]
     },
     "execution_count": 4,
     "metadata": {},
     "output_type": "execute_result"
    }
   ],
   "source": [
    "results.sort_values(\"Timestamp\", ascending=False).reset_index(drop=True)"
   ]
  }
 ],
 "metadata": {
  "kernelspec": {
   "display_name": "Python 3 (ipykernel)",
   "language": "python",
   "name": "python3"
  },
  "language_info": {
   "codemirror_mode": {
    "name": "ipython",
    "version": 3
   },
   "file_extension": ".py",
   "mimetype": "text/x-python",
   "name": "python",
   "nbconvert_exporter": "python",
   "pygments_lexer": "ipython3",
   "version": "3.11.9"
  }
 },
 "nbformat": 4,
 "nbformat_minor": 5
}
