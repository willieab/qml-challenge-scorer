{
 "cells": [
  {
   "cell_type": "markdown",
   "id": "da580fcc-3016-4ea2-8c9c-a045c8bdfb6d",
   "metadata": {
    "editable": true,
    "slideshow": {
     "slide_type": ""
    },
    "tags": []
   },
   "source": [
    "# Leader board\n",
    "\n",
    "Check out the latest challenge results here!\n",
    "\n",
    ":::{tip}\n",
    "\n",
    "Be sure to refresh the page to get the latest results.\n",
    ":::\n",
    "\n",
    "## Top 10 teams\n",
    "\n",
    "Check out the evolution of the leading teams's progress!"
   ]
  },
  {
   "cell_type": "code",
   "execution_count": null,
   "id": "24302f7b-d490-408d-addf-dad83ca81f7c",
   "metadata": {
    "editable": true,
    "slideshow": {
     "slide_type": ""
    },
    "tags": [
     "remove-input"
    ]
   },
   "outputs": [],
   "source": [
    "# Rules of the game\n",
    "MAX_GATES = 150\n",
    "MAX_PARAMS = 60\n",
    "\n",
    "# Leaderboard config\n",
    "NUM_LEADERS = 10\n",
    "\n",
    "# Helper function to compute total submission score\n",
    "def compute_score(entry):\n",
    "    # Accuracy \n",
    "    score = entry.Accuracy\n",
    "\n",
    "    # Gate penalty\n",
    "    score += (MAX_GATES - entry.Gates) / MAX_GATES\n",
    "\n",
    "    # Params penalty\n",
    "    score += (MAX_PARAMS - entry.Parameters) / MAX_PARAMS\n",
    "    return score"
   ]
  },
  {
   "cell_type": "code",
   "execution_count": null,
   "id": "9961324a-c975-4a23-bb88-57ee9457a2b9",
   "metadata": {
    "editable": true,
    "slideshow": {
     "slide_type": ""
    },
    "tags": [
     "remove-input"
    ]
   },
   "outputs": [],
   "source": [
    "import matplotlib.pyplot as plt\n",
    "import pandas as pd\n",
    "\n",
    "# Retrieve submissions and compute total score\n",
    "results = pd.read_csv(\"results.csv\", index_col=False)\n",
    "results[\"Timestamp\"] = pd.to_datetime(results.Timestamp, unit=\"s\")\n",
    "results.insert(1, \"Score\", results.apply(compute_score, axis=1))\n",
    "\n",
    "# Get top teams, sorted by their highest scoring submission\n",
    "gpby = results.groupby(\"Team\")\n",
    "top_teams = results.iloc[gpby.idxmax().Score].sort_values(\"Score\", ascending=False)\n",
    "leaders = top_teams[:NUM_LEADERS].reset_index(drop=True)\n",
    "\n",
    "# Extract leading teams' data\n",
    "agg = gpby.agg(list)\n",
    "plt.xticks(rotation=70)\n",
    "[plt.plot(agg.loc[team].Timestamp, agg.loc[team].Score) for team in leaders.Team]\n",
    "\n",
    "# Make the plot pretty\n",
    "plt.xlabel(\"Submission time\")\n",
    "plt.ylabel(\"Total score\")\n",
    "plt.legend(leaders.Team, bbox_to_anchor=(1.04, 1), loc=\"upper left\");"
   ]
  },
  {
   "cell_type": "code",
   "execution_count": null,
   "id": "7cdbee26-8fb7-4a95-81f9-67694880395d",
   "metadata": {
    "editable": true,
    "slideshow": {
     "slide_type": ""
    },
    "tags": [
     "remove-input"
    ]
   },
   "outputs": [],
   "source": [
    "leaders.rename(columns={\"Score\": \"Top Score\"})"
   ]
  },
  {
   "cell_type": "markdown",
   "id": "29186506-3bce-4896-a321-75f050a074d2",
   "metadata": {
    "editable": true,
    "slideshow": {
     "slide_type": ""
    },
    "tags": []
   },
   "source": [
    "## Submission history\n",
    "\n",
    "Please find all the challenge submissions below. Most recent submissions are at the top!"
   ]
  },
  {
   "cell_type": "code",
   "execution_count": null,
   "id": "5e591e8b-9a0c-4e3c-bedb-3b51a1dc01f6",
   "metadata": {
    "editable": true,
    "scrolled": true,
    "slideshow": {
     "slide_type": ""
    },
    "tags": [
     "remove-input"
    ]
   },
   "outputs": [],
   "source": [
    "results.sort_values(\"Timestamp\", ascending=False).reset_index(drop=True)"
   ]
  }
 ],
 "metadata": {
  "kernelspec": {
   "display_name": "Python 3 (ipykernel)",
   "language": "python",
   "name": "python3"
  },
  "language_info": {
   "codemirror_mode": {
    "name": "ipython",
    "version": 3
   },
   "file_extension": ".py",
   "mimetype": "text/x-python",
   "name": "python",
   "nbconvert_exporter": "python",
   "pygments_lexer": "ipython3",
   "version": "3.12.3"
  }
 },
 "nbformat": 4,
 "nbformat_minor": 5
}
